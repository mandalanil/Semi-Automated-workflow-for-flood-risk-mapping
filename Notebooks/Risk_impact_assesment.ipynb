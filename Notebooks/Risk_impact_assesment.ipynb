{
 "cells": [
  {
   "cell_type": "markdown",
   "metadata": {},
   "source": [
    "# Prepare shapefiles"
   ]
  },
  {
   "cell_type": "code",
   "execution_count": 3,
   "metadata": {},
   "outputs": [
    {
     "name": "stdout",
     "output_type": "stream",
     "text": [
      "T:\\amandal2023$\\Common_datasets\\projected\\Federal_lands.shp\n",
      "Selected and saved: T:\\amandal2023$\\Working\\SantaRosa\\Datasets\\impact_table\\shp\\Federal_lands.shp\n",
      "T:\\amandal2023$\\Common_datasets\\projected\\Indian_lands.shp\n",
      "Selected and saved: T:\\amandal2023$\\Working\\SantaRosa\\Datasets\\impact_table\\shp\\Indian_lands.shp\n",
      "T:\\amandal2023$\\Common_datasets\\projected\\State_lands.shp\n",
      "Selected and saved: T:\\amandal2023$\\Working\\SantaRosa\\Datasets\\impact_table\\shp\\State_lands.shp\n",
      "T:\\amandal2023$\\Common_datasets\\projected\\State_lands_NOS.shp\n",
      "Selected and saved: T:\\amandal2023$\\Working\\SantaRosa\\Datasets\\impact_table\\shp\\State_lands_NOS.shp\n",
      "T:\\amandal2023$\\Common_datasets\\projected\\State_lands_OS.shp\n",
      "Selected and saved: T:\\amandal2023$\\Working\\SantaRosa\\Datasets\\impact_table\\shp\\State_lands_OS.shp\n",
      "T:\\amandal2023$\\Common_datasets\\projected\\Water_body.shp\n",
      "Selected and saved: T:\\amandal2023$\\Working\\SantaRosa\\Datasets\\impact_table\\shp\\Water_body.shp\n",
      "Process completed.\n"
     ]
    }
   ],
   "source": [
    "import arcpy\n",
    "import os\n",
    "arcpy.env.overwriteOutput = True\n",
    "arcpy.env.addOutputsToMap=False\n",
    "# Set the workspace for the input folder containing feature classes\n",
    "input_workspace = r\"T:\\amandal2023$\\Common_datasets\\projected\"\n",
    "arcpy.env.workspace = input_workspace\n",
    "\n",
    "# Set the output folder\n",
    "output_folder = r\"T:\\amandal2023$\\Working\\SantaRosa\\Datasets\\impact_table\\shp\"\n",
    "\n",
    "inundation = r\"T:\\amandal2023$\\Working\\SantaRosa\\Datasets\\impact_table\\1d100yr_poly.shp\"\n",
    "\n",
    "# List all feature classes in the input workspace\n",
    "feature_classes = arcpy.ListFeatureClasses()\n",
    "for fc in feature_classes:\n",
    "    if fc=='Water_body.shp':\n",
    "        erase_fc=os.path.join(input_workspace, fc)\n",
    "\n",
    "# Iterate through the list of feature classes\n",
    "for fc in feature_classes:\n",
    "    # Construct the full path of the feature class\n",
    "    fc_path = os.path.join(input_workspace, fc)\n",
    "    print(fc_path)\n",
    "    #selection=arcpy.management.SelectLayerByLocation(fc_path, \"intersect\", inundation)\n",
    "    if fc!='Water_body.shp':\n",
    "        output_fc_tmp = os.path.join(output_folder, fc.replace('.shp','_temp.shp'))\n",
    "        #arcpy.CopyFeatures_management(selection, output_fc_tmp)\n",
    "        # Use the Clip tool\n",
    "        arcpy.analysis.Clip(fc_path, inundation, output_fc_tmp)\n",
    "        output_fc = os.path.join(output_folder, fc)\n",
    "        # Perform the erase operation\n",
    "        arcpy.analysis.Erase(output_fc_tmp, erase_fc, output_fc)\n",
    "        arcpy.Delete_management(output_fc_tmp)\n",
    "        del output_fc_tmp\n",
    "    else:\n",
    "        output_fc = os.path.join(output_folder, fc)\n",
    "        arcpy.CopyFeatures_management(fc_path, output_fc)\n",
    "    print(f\"Selected and saved: {output_fc}\")\n",
    "    \n",
    "\n",
    "print(\"Process completed.\")\n"
   ]
  },
  {
   "cell_type": "markdown",
   "metadata": {},
   "source": [
    "# Calculate Flooded Area"
   ]
  },
  {
   "cell_type": "code",
   "execution_count": 4,
   "metadata": {},
   "outputs": [
    {
     "name": "stdout",
     "output_type": "stream",
     "text": [
      "Total area of flood in 031401050500: 22.482524986925696 acres\n",
      "Total area of flood in 031403050503: 9083.827497502545 acres\n",
      "Total area of flood in 031401040501: 239.2663894922 acres\n",
      "Total area of flood in 031401050201: 1059.491885565166 acres\n",
      "Total area of flood in 031401040403: 434.758476961139 acres\n",
      "Total area of flood in 031401040404: 636.0173341997479 acres\n",
      "Total area of flood in 031401040304: 1672.471190053251 acres\n",
      "Total area of flood in 031401050202: 689.4768743475324 acres\n",
      "Total area of flood in 031401040406: 1443.293222062408 acres\n",
      "Total area of flood in 031401050105: 889.1612452850612 acres\n",
      "Total area of flood in 031401030804: 4521.9485591621315 acres\n",
      "Total area of flood in 031401030805: 2055.994941572211 acres\n",
      "Total area of flood in 031401050205: 3068.7480657664 acres\n",
      "Total area of flood in 031403050403: 5889.5759426759105 acres\n",
      "Total area of flood in 031401050303: 3020.013286764644 acres\n",
      "Total area of flood in 031403050402: 1281.016284449951 acres\n",
      "Total area of flood in 031401040401: 62.1587193672 acres\n",
      "Total area of flood in 031401040302: 238.02351055879006 acres\n",
      "Total area of flood in 031401040502: 583.9963425637169 acres\n",
      "Total area of flood in 031403050302: 3993.334080289065 acres\n",
      "Total area of flood in 031403050404: 2404.700619676752 acres\n",
      "Total area of flood in 031403050602: 12789.138338320423 acres\n",
      "Total area of flood in 031401040405: 358.491867427961 acres\n",
      "Total area of flood in 031401030806: 8415.018310303289 acres\n",
      "Total area of flood in 031401040303: 215.772403533433 acres\n",
      "Total area of flood in 031403050601: 8991.501407402355 acres\n",
      "Total area of flood in 031401050301: 1321.481112994111 acres\n",
      "Total area of flood in 031401040205: 1570.6846837673168 acres\n",
      "Total area of flood in 031401050302: 1430.934181953531 acres\n",
      "Total area of flood in 031401040402: 121.612579685598 acres\n",
      "Total area of flood in 031401040301: 141.237093146002 acres\n",
      "Total area of flood in 031401050203: 660.8213520376079 acres\n",
      "Total area of flood in 031401040503: 2998.5748684900536 acres\n",
      "Total area of flood in 031401040203: 841.815280525572 acres\n",
      "Total area of flood in 031401030803: 2381.690062867503 acres\n",
      "Total area of flood in 031401050104: 3122.545540669603 acres\n",
      "Total area of flood in 031401050204: 377.23433040280923 acres\n",
      "Total area of flood in 031401040204: 973.1151605475451 acres\n",
      "Process completed.\n"
     ]
    }
   ],
   "source": [
    "import arcpy\n",
    "import os\n",
    "import pandas as pd\n",
    "arcpy.env.overwriteOutput = True\n",
    "arcpy.env.addOutputsToMap=False\n",
    "\n",
    "# Set the output folder\n",
    "output_folder = r\"T:\\amandal2023$\\Working\\SantaRosa\\Datasets\\impact_table\\temp\"\n",
    "\n",
    "Hucs = r\"T:\\amandal2023$\\Working\\SantaRosa\\Datasets\\Admin\\Santa_Rosa_HUC12s.shp\"\n",
    "\n",
    "fc_path= r\"T:\\amandal2023$\\Working\\SantaRosa\\Datasets\\impact_table\\1d100yr_poly.shp\"\n",
    "\n",
    "\n",
    "data_list = []\n",
    "# Create a search cursor to iterate through the rows\n",
    "with arcpy.da.SearchCursor(Hucs, ['SHAPE@','HUC12','AREAACRES','DESCRIPT']) as cursor:#'DESCRIPT'\n",
    "    for row in cursor:\n",
    "        name=row[1]\n",
    "        huc_name=row[3]\n",
    "        # Construct the full path of the feature class\n",
    "        #fc_path = os.path.join(input_workspace, fc)\n",
    "        clip_path=os.path.join(output_folder, 'temp_flood')\n",
    "        #print(fc_path)\n",
    "        # Perform the clip operation\n",
    "        arcpy.analysis.Clip(fc_path, row[0], clip_path)\n",
    "\n",
    "        # Add a new field for acres\n",
    "        field_name = \"acres\"\n",
    "        arcpy.AddField_management(clip_path, field_name, \"DOUBLE\")\n",
    "\n",
    "        # Calculate the area in acres\n",
    "        expression = \"!SHAPE.area@ACRES!\"\n",
    "        arcpy.CalculateField_management(clip_path, field_name, expression, \"PYTHON\")\n",
    "\n",
    "        # Create a SQL expression to select rows with an area greater than 10 acres\n",
    "        sql_expression = f\"{field_name} > 10\"\n",
    "\n",
    "        # Select rows based on the SQL expression\n",
    "        arcpy.SelectLayerByAttribute_management(clip_path, \"NEW_SELECTION\", sql_expression)\n",
    "\n",
    "        # Calculate the total area of selected rows\n",
    "        selected_area = 0\n",
    "        with arcpy.da.SearchCursor(clip_path, [field_name]) as cursor:\n",
    "            for row1 in cursor:\n",
    "                selected_area += row1[0]\n",
    "\n",
    "        # Print the total area of selected rows\n",
    "        print(f\"Total area of flood in {name}: {selected_area} acres\")\n",
    "        data_list.append({\"HUC\": row[1],\"Name\":row[3],\"Area(acres)\": row[2], \"Flooded_Area(acres)\": selected_area})\n",
    "\n",
    "        # Clear the selection\n",
    "        arcpy.SelectLayerByAttribute_management(clip_path, \"CLEAR_SELECTION\")\n",
    "        arcpy.Delete_management(clip_path)\n",
    "        #data = pd.DataFrame({\"Layer\":a,\"Area(acers)\":selected_area }, index=range(len(feature_classes)))\n",
    "           \n",
    "df = pd.DataFrame(data_list)\n",
    "print(\"Process completed.\")"
   ]
  },
  {
   "cell_type": "code",
   "execution_count": 5,
   "metadata": {},
   "outputs": [
    {
     "name": "stderr",
     "output_type": "stream",
     "text": [
      "[5]:1: FutureWarning: As the xlwt package is no longer maintained, the xlwt engine will be removed in a future version of pandas. This is the only engine in pandas that supports writing in the xls format. Install openpyxl and write to an xlsx file instead. You can set the option io.excel.xls.writer to 'xlwt' to silence this warning. While this option is deprecated and will also raise a warning, it can be globally set and the warning suppressed.\n"
     ]
    }
   ],
   "source": [
    "df.to_excel(r'T:\\amandal2023$\\Working\\SantaRosa\\Datasets\\impact_table\\table1.xls')"
   ]
  },
  {
   "cell_type": "markdown",
   "metadata": {},
   "source": [
    "# Calculate Areas of different lands"
   ]
  },
  {
   "cell_type": "code",
   "execution_count": 4,
   "metadata": {},
   "outputs": [
    {
     "name": "stdout",
     "output_type": "stream",
     "text": [
      "clipped  Federal_lands.shp\n",
      "Total area of Federal_lands.shp: 0 acres\n",
      "clipped  Indian_lands.shp\n",
      "Total area of Indian_lands.shp: 0 acres\n",
      "clipped  State_lands.shp\n",
      "Total area of State_lands.shp: 0 acres\n",
      "clipped  State_lands_NOS.shp\n",
      "Total area of State_lands_NOS.shp: 0 acres\n",
      "clipped  State_lands_OS.shp\n",
      "Total area of State_lands_OS.shp: 0 acres\n",
      "clipped  Water_body.shp\n",
      "Total area of Water_body.shp: 243586.66049713135 acres\n",
      "   Federal_landsArea(acres)  ...           Name\n",
      "0                         0  ...  PENSACOLA BAY\n",
      "\n",
      "[1 rows x 8 columns]\n"
     ]
    },
    {
     "name": "stderr",
     "output_type": "stream",
     "text": [
      "[4]:77: FutureWarning: The frame.append method is deprecated and will be removed from pandas in a future version. Use pandas.concat instead.\n"
     ]
    },
    {
     "name": "stdout",
     "output_type": "stream",
     "text": [
      "clipped  Federal_lands.shp\n",
      "Total area of Federal_lands.shp: 0 acres\n",
      "clipped  Indian_lands.shp\n",
      "Total area of Indian_lands.shp: 0 acres\n",
      "clipped  State_lands.shp\n",
      "Total area of State_lands.shp: 0 acres\n",
      "clipped  State_lands_NOS.shp\n",
      "Total area of State_lands_NOS.shp: 0 acres\n",
      "clipped  State_lands_OS.shp\n",
      "Total area of State_lands_OS.shp: 0 acres\n",
      "clipped  Water_body.shp\n",
      "Total area of Water_body.shp: 10254.2495792605 acres\n",
      "   Federal_landsArea(acres)  ...           Name\n",
      "0                         0  ...  DELANEY RIVER\n",
      "\n",
      "[1 rows x 8 columns]\n"
     ]
    },
    {
     "name": "stderr",
     "output_type": "stream",
     "text": [
      "[4]:77: FutureWarning: The frame.append method is deprecated and will be removed from pandas in a future version. Use pandas.concat instead.\n"
     ]
    },
    {
     "name": "stdout",
     "output_type": "stream",
     "text": [
      "clipped  Federal_lands.shp\n",
      "Total area of Federal_lands.shp: 0 acres\n",
      "clipped  Indian_lands.shp\n",
      "Total area of Indian_lands.shp: 0 acres\n",
      "clipped  State_lands.shp\n",
      "Total area of State_lands.shp: 0 acres\n",
      "clipped  State_lands_NOS.shp\n",
      "Total area of State_lands_NOS.shp: 0 acres\n",
      "clipped  State_lands_OS.shp\n",
      "Total area of State_lands_OS.shp: 0 acres\n",
      "clipped  Water_body.shp\n",
      "Total area of Water_body.shp: 1948.3154767223 acres\n",
      "   Federal_landsArea(acres)  ...                               Name\n",
      "0                         0  ...  UPPER POND CREEK-BLACKWATER RIVER\n",
      "\n",
      "[1 rows x 8 columns]\n"
     ]
    },
    {
     "name": "stderr",
     "output_type": "stream",
     "text": [
      "[4]:77: FutureWarning: The frame.append method is deprecated and will be removed from pandas in a future version. Use pandas.concat instead.\n"
     ]
    },
    {
     "name": "stdout",
     "output_type": "stream",
     "text": [
      "clipped  Federal_lands.shp\n",
      "Total area of Federal_lands.shp: 22.6204449116 acres\n",
      "clipped  Indian_lands.shp\n",
      "Total area of Indian_lands.shp: 0 acres\n",
      "clipped  State_lands.shp\n",
      "Total area of State_lands.shp: 121.132930543 acres\n",
      "clipped  State_lands_NOS.shp\n",
      "Total area of State_lands_NOS.shp: 121.132930543 acres\n",
      "clipped  State_lands_OS.shp\n",
      "Total area of State_lands_OS.shp: 0 acres\n",
      "clipped  Water_body.shp\n",
      "Total area of Water_body.shp: 4288.9580422010995 acres\n",
      "   Federal_landsArea(acres)  ...                            Name\n",
      "0                 22.620445  ...  FUNDY BAYOU-DEAN CREEK FRONTAL\n",
      "\n",
      "[1 rows x 8 columns]\n"
     ]
    },
    {
     "name": "stderr",
     "output_type": "stream",
     "text": [
      "[4]:77: FutureWarning: The frame.append method is deprecated and will be removed from pandas in a future version. Use pandas.concat instead.\n"
     ]
    },
    {
     "name": "stdout",
     "output_type": "stream",
     "text": [
      "clipped  Federal_lands.shp\n",
      "Total area of Federal_lands.shp: 0 acres\n",
      "clipped  Indian_lands.shp\n",
      "Total area of Indian_lands.shp: 0 acres\n",
      "clipped  State_lands.shp\n",
      "Total area of State_lands.shp: 0 acres\n",
      "clipped  State_lands_NOS.shp\n",
      "Total area of State_lands_NOS.shp: 0 acres\n",
      "clipped  State_lands_OS.shp\n",
      "Total area of State_lands_OS.shp: 0 acres\n",
      "clipped  Water_body.shp\n",
      "Total area of Water_body.shp: 1608.1510252184005 acres\n",
      "   Federal_landsArea(acres)  ...                                    Name\n",
      "0                         0  ...  LOWER EAST FORK OF BIG COLDWATER CREEK\n",
      "\n",
      "[1 rows x 8 columns]\n"
     ]
    },
    {
     "name": "stderr",
     "output_type": "stream",
     "text": [
      "[4]:77: FutureWarning: The frame.append method is deprecated and will be removed from pandas in a future version. Use pandas.concat instead.\n"
     ]
    },
    {
     "name": "stdout",
     "output_type": "stream",
     "text": [
      "clipped  Federal_lands.shp\n",
      "Total area of Federal_lands.shp: 0 acres\n",
      "clipped  Indian_lands.shp\n",
      "Total area of Indian_lands.shp: 0 acres\n",
      "clipped  State_lands.shp\n",
      "Total area of State_lands.shp: 0 acres\n",
      "clipped  State_lands_NOS.shp\n",
      "Total area of State_lands_NOS.shp: 0 acres\n",
      "clipped  State_lands_OS.shp\n",
      "Total area of State_lands_OS.shp: 0 acres\n",
      "clipped  Water_body.shp\n",
      "Total area of Water_body.shp: 3469.4893283775987 acres\n",
      "   Federal_landsArea(acres)  ...                                 Name\n",
      "0                         0  ...  UPPER WEST FORK BIG COLDWATER CREEK\n",
      "\n",
      "[1 rows x 8 columns]\n"
     ]
    },
    {
     "name": "stderr",
     "output_type": "stream",
     "text": [
      "[4]:77: FutureWarning: The frame.append method is deprecated and will be removed from pandas in a future version. Use pandas.concat instead.\n"
     ]
    },
    {
     "name": "stdout",
     "output_type": "stream",
     "text": [
      "clipped  Federal_lands.shp\n",
      "Total area of Federal_lands.shp: 0 acres\n",
      "clipped  Indian_lands.shp\n",
      "Total area of Indian_lands.shp: 0 acres\n",
      "clipped  State_lands.shp\n",
      "Total area of State_lands.shp: 106.198138951 acres\n",
      "clipped  State_lands_NOS.shp\n",
      "Total area of State_lands_NOS.shp: 0 acres\n",
      "clipped  State_lands_OS.shp\n",
      "Total area of State_lands_OS.shp: 106.198138951 acres\n",
      "clipped  Water_body.shp\n",
      "Total area of Water_body.shp: 4204.7534078621 acres\n",
      "   Federal_landsArea(acres)  ...                     Name\n",
      "0                         0  ...  LOWER BIG JUNIPER CREEK\n",
      "\n",
      "[1 rows x 8 columns]\n"
     ]
    },
    {
     "name": "stderr",
     "output_type": "stream",
     "text": [
      "[4]:77: FutureWarning: The frame.append method is deprecated and will be removed from pandas in a future version. Use pandas.concat instead.\n"
     ]
    },
    {
     "name": "stdout",
     "output_type": "stream",
     "text": [
      "clipped  Federal_lands.shp\n",
      "Total area of Federal_lands.shp: 19.3701469384 acres\n",
      "clipped  Indian_lands.shp\n",
      "Total area of Indian_lands.shp: 0 acres\n",
      "clipped  State_lands.shp\n",
      "Total area of State_lands.shp: 0 acres\n",
      "clipped  State_lands_NOS.shp\n",
      "Total area of State_lands_NOS.shp: 0 acres\n",
      "clipped  State_lands_OS.shp\n",
      "Total area of State_lands_OS.shp: 0 acres\n",
      "clipped  Water_body.shp\n",
      "Total area of Water_body.shp: 1147.1788243857 acres\n",
      "   Federal_landsArea(acres)  ...                                     Name\n",
      "0                 19.370147  ...  TOM KING BAYOU-BUTCHER PEN COVE FRONTAL\n",
      "\n",
      "[1 rows x 8 columns]\n"
     ]
    },
    {
     "name": "stderr",
     "output_type": "stream",
     "text": [
      "[4]:77: FutureWarning: The frame.append method is deprecated and will be removed from pandas in a future version. Use pandas.concat instead.\n"
     ]
    },
    {
     "name": "stdout",
     "output_type": "stream",
     "text": [
      "clipped  Federal_lands.shp\n",
      "Total area of Federal_lands.shp: 0 acres\n",
      "clipped  Indian_lands.shp\n",
      "Total area of Indian_lands.shp: 0 acres\n",
      "clipped  State_lands.shp\n",
      "Total area of State_lands.shp: 0 acres\n",
      "clipped  State_lands_NOS.shp\n",
      "Total area of State_lands_NOS.shp: 0 acres\n",
      "clipped  State_lands_OS.shp\n",
      "Total area of State_lands_OS.shp: 0 acres\n",
      "clipped  Water_body.shp\n",
      "Total area of Water_body.shp: 2967.1371291195 acres\n",
      "   Federal_landsArea(acres)  ...                 Name\n",
      "0                         0  ...  BIG COLDWATER CREEK\n",
      "\n",
      "[1 rows x 8 columns]\n"
     ]
    },
    {
     "name": "stderr",
     "output_type": "stream",
     "text": [
      "[4]:77: FutureWarning: The frame.append method is deprecated and will be removed from pandas in a future version. Use pandas.concat instead.\n"
     ]
    },
    {
     "name": "stdout",
     "output_type": "stream",
     "text": [
      "clipped  Federal_lands.shp\n",
      "Total area of Federal_lands.shp: 0 acres\n",
      "clipped  Indian_lands.shp\n",
      "Total area of Indian_lands.shp: 0 acres\n",
      "clipped  State_lands.shp\n",
      "Total area of State_lands.shp: 0 acres\n",
      "clipped  State_lands_NOS.shp\n",
      "Total area of State_lands_NOS.shp: 0 acres\n",
      "clipped  State_lands_OS.shp\n",
      "Total area of State_lands_OS.shp: 0 acres\n",
      "clipped  Water_body.shp\n",
      "Total area of Water_body.shp: 2133.4014305327 acres\n",
      "   Federal_landsArea(acres)  ...                  Name\n",
      "0                         0  ...  LOWER EAST BAY RIVER\n",
      "\n",
      "[1 rows x 8 columns]\n"
     ]
    },
    {
     "name": "stderr",
     "output_type": "stream",
     "text": [
      "[4]:77: FutureWarning: The frame.append method is deprecated and will be removed from pandas in a future version. Use pandas.concat instead.\n"
     ]
    },
    {
     "name": "stdout",
     "output_type": "stream",
     "text": [
      "clipped  Federal_lands.shp\n",
      "Total area of Federal_lands.shp: 158.911181844 acres\n",
      "clipped  Indian_lands.shp\n",
      "Total area of Indian_lands.shp: 0 acres\n",
      "clipped  State_lands.shp\n",
      "Total area of State_lands.shp: 88.8609847685 acres\n",
      "clipped  State_lands_NOS.shp\n",
      "Total area of State_lands_NOS.shp: 0 acres\n",
      "clipped  State_lands_OS.shp\n",
      "Total area of State_lands_OS.shp: 88.8609847682 acres\n",
      "clipped  Water_body.shp\n",
      "Total area of Water_body.shp: 5463.455123918599 acres\n",
      "   Federal_landsArea(acres)  ...                              Name\n",
      "0                158.911182  ...  BURNT GROCERY CREEK-YELLOW RIVER\n",
      "\n",
      "[1 rows x 8 columns]\n"
     ]
    },
    {
     "name": "stderr",
     "output_type": "stream",
     "text": [
      "[4]:77: FutureWarning: The frame.append method is deprecated and will be removed from pandas in a future version. Use pandas.concat instead.\n"
     ]
    },
    {
     "name": "stdout",
     "output_type": "stream",
     "text": [
      "clipped  Federal_lands.shp\n",
      "Total area of Federal_lands.shp: 885.151067141 acres\n",
      "clipped  Indian_lands.shp\n",
      "Total area of Indian_lands.shp: 0 acres\n",
      "clipped  State_lands.shp\n",
      "Total area of State_lands.shp: 0 acres\n",
      "clipped  State_lands_NOS.shp\n",
      "Total area of State_lands_NOS.shp: 0 acres\n",
      "clipped  State_lands_OS.shp\n",
      "Total area of State_lands_OS.shp: 0 acres\n",
      "clipped  Water_body.shp\n",
      "Total area of Water_body.shp: 1504.6207134681001 acres\n",
      "   Federal_landsArea(acres)  ...           Name\n",
      "0                885.151067  ...  BOILING CREEK\n",
      "\n",
      "[1 rows x 8 columns]\n"
     ]
    },
    {
     "name": "stderr",
     "output_type": "stream",
     "text": [
      "[4]:77: FutureWarning: The frame.append method is deprecated and will be removed from pandas in a future version. Use pandas.concat instead.\n"
     ]
    },
    {
     "name": "stdout",
     "output_type": "stream",
     "text": [
      "clipped  Federal_lands.shp\n",
      "Total area of Federal_lands.shp: 3513.079086449 acres\n",
      "clipped  Indian_lands.shp\n",
      "Total area of Indian_lands.shp: 0 acres\n",
      "clipped  State_lands.shp\n",
      "Total area of State_lands.shp: 0 acres\n",
      "clipped  State_lands_NOS.shp\n",
      "Total area of State_lands_NOS.shp: 0 acres\n",
      "clipped  State_lands_OS.shp\n",
      "Total area of State_lands_OS.shp: 0 acres\n",
      "clipped  Water_body.shp\n",
      "Total area of Water_body.shp: 1389.1110805778997 acres\n",
      "   Federal_landsArea(acres)  ...               Name\n",
      "0               3513.079086  ...  SANTA ROSA ISLAND\n",
      "\n",
      "[1 rows x 8 columns]\n"
     ]
    },
    {
     "name": "stderr",
     "output_type": "stream",
     "text": [
      "[4]:77: FutureWarning: The frame.append method is deprecated and will be removed from pandas in a future version. Use pandas.concat instead.\n"
     ]
    },
    {
     "name": "stdout",
     "output_type": "stream",
     "text": [
      "clipped  Federal_lands.shp\n",
      "Total area of Federal_lands.shp: 0 acres\n",
      "clipped  Indian_lands.shp\n",
      "Total area of Indian_lands.shp: 0 acres\n",
      "clipped  State_lands.shp\n",
      "Total area of State_lands.shp: 0 acres\n",
      "clipped  State_lands_NOS.shp\n",
      "Total area of State_lands_NOS.shp: 0 acres\n",
      "clipped  State_lands_OS.shp\n",
      "Total area of State_lands_OS.shp: 0 acres\n",
      "clipped  Water_body.shp\n",
      "Total area of Water_body.shp: 11471.381131010401 acres\n",
      "   Federal_landsArea(acres)  ...              Name\n",
      "0                         0  ...  CHUMUKLA SPRINGS\n",
      "\n",
      "[1 rows x 8 columns]\n"
     ]
    },
    {
     "name": "stderr",
     "output_type": "stream",
     "text": [
      "[4]:77: FutureWarning: The frame.append method is deprecated and will be removed from pandas in a future version. Use pandas.concat instead.\n"
     ]
    },
    {
     "name": "stdout",
     "output_type": "stream",
     "text": [
      "clipped  Federal_lands.shp\n",
      "Total area of Federal_lands.shp: 0 acres\n",
      "clipped  Indian_lands.shp\n",
      "Total area of Indian_lands.shp: 0 acres\n",
      "clipped  State_lands.shp\n",
      "Total area of State_lands.shp: 0 acres\n",
      "clipped  State_lands_NOS.shp\n",
      "Total area of State_lands_NOS.shp: 0 acres\n",
      "clipped  State_lands_OS.shp\n",
      "Total area of State_lands_OS.shp: 0 acres\n",
      "clipped  Water_body.shp\n",
      "Total area of Water_body.shp: 3068.2854345537 acres\n",
      "   Federal_landsArea(acres)  ...                              Name\n",
      "0                         0  ...  INDIAN BAYOU-BASIN BAYOU FRONTAL\n",
      "\n",
      "[1 rows x 8 columns]\n"
     ]
    },
    {
     "name": "stderr",
     "output_type": "stream",
     "text": [
      "[4]:77: FutureWarning: The frame.append method is deprecated and will be removed from pandas in a future version. Use pandas.concat instead.\n"
     ]
    },
    {
     "name": "stdout",
     "output_type": "stream",
     "text": [
      "clipped  Federal_lands.shp\n",
      "Total area of Federal_lands.shp: 0 acres\n",
      "clipped  Indian_lands.shp\n",
      "Total area of Indian_lands.shp: 0 acres\n",
      "clipped  State_lands.shp\n",
      "Total area of State_lands.shp: 0 acres\n",
      "clipped  State_lands_NOS.shp\n",
      "Total area of State_lands_NOS.shp: 0 acres\n",
      "clipped  State_lands_OS.shp\n",
      "Total area of State_lands_OS.shp: 0 acres\n",
      "clipped  Water_body.shp\n",
      "Total area of Water_body.shp: 5709.684078468999 acres\n",
      "   Federal_landsArea(acres)  ...          Name\n",
      "0                         0  ...  HOBBS BRANCH\n",
      "\n",
      "[1 rows x 8 columns]\n"
     ]
    },
    {
     "name": "stderr",
     "output_type": "stream",
     "text": [
      "[4]:77: FutureWarning: The frame.append method is deprecated and will be removed from pandas in a future version. Use pandas.concat instead.\n"
     ]
    },
    {
     "name": "stdout",
     "output_type": "stream",
     "text": [
      "clipped  Federal_lands.shp\n",
      "Total area of Federal_lands.shp: 0 acres\n",
      "clipped  Indian_lands.shp\n",
      "Total area of Indian_lands.shp: 0 acres\n",
      "clipped  State_lands.shp\n",
      "Total area of State_lands.shp: 0 acres\n",
      "clipped  State_lands_NOS.shp\n",
      "Total area of State_lands_NOS.shp: 0 acres\n",
      "clipped  State_lands_OS.shp\n",
      "Total area of State_lands_OS.shp: 0 acres\n",
      "clipped  Water_body.shp\n",
      "Total area of Water_body.shp: 679.0219943385 acres\n",
      "   Federal_landsArea(acres)  ...                                 Name\n",
      "0                         0  ...  UPPER EAST FORK BIG COLDWATER CREEK\n",
      "\n",
      "[1 rows x 8 columns]\n"
     ]
    },
    {
     "name": "stderr",
     "output_type": "stream",
     "text": [
      "[4]:77: FutureWarning: The frame.append method is deprecated and will be removed from pandas in a future version. Use pandas.concat instead.\n"
     ]
    },
    {
     "name": "stdout",
     "output_type": "stream",
     "text": [
      "clipped  Federal_lands.shp\n",
      "Total area of Federal_lands.shp: 0 acres\n",
      "clipped  Indian_lands.shp\n",
      "Total area of Indian_lands.shp: 0 acres\n",
      "clipped  State_lands.shp\n",
      "Total area of State_lands.shp: 15.5873930754 acres\n",
      "clipped  State_lands_NOS.shp\n",
      "Total area of State_lands_NOS.shp: 0 acres\n",
      "clipped  State_lands_OS.shp\n",
      "Total area of State_lands_OS.shp: 15.5873930754 acres\n",
      "clipped  Water_body.shp\n",
      "Total area of Water_body.shp: 2331.4325383915993 acres\n",
      "   Federal_landsArea(acres)  ...                    Name\n",
      "0                         0  ...  LOWER SWEETWATER CREEK\n",
      "\n",
      "[1 rows x 8 columns]\n"
     ]
    },
    {
     "name": "stderr",
     "output_type": "stream",
     "text": [
      "[4]:77: FutureWarning: The frame.append method is deprecated and will be removed from pandas in a future version. Use pandas.concat instead.\n"
     ]
    },
    {
     "name": "stdout",
     "output_type": "stream",
     "text": [
      "clipped  Federal_lands.shp\n",
      "Total area of Federal_lands.shp: 0 acres\n",
      "clipped  Indian_lands.shp\n",
      "Total area of Indian_lands.shp: 0 acres\n",
      "clipped  State_lands.shp\n",
      "Total area of State_lands.shp: 0 acres\n",
      "clipped  State_lands_NOS.shp\n",
      "Total area of State_lands_NOS.shp: 0 acres\n",
      "clipped  State_lands_OS.shp\n",
      "Total area of State_lands_OS.shp: 0 acres\n",
      "clipped  Water_body.shp\n",
      "Total area of Water_body.shp: 1731.3025187725004 acres\n",
      "   Federal_landsArea(acres)  ...                               Name\n",
      "0                         0  ...  LOWER POND CREEK-BLACKWATER RIVER\n",
      "\n",
      "[1 rows x 8 columns]\n"
     ]
    },
    {
     "name": "stderr",
     "output_type": "stream",
     "text": [
      "[4]:77: FutureWarning: The frame.append method is deprecated and will be removed from pandas in a future version. Use pandas.concat instead.\n"
     ]
    },
    {
     "name": "stdout",
     "output_type": "stream",
     "text": [
      "clipped  Federal_lands.shp\n",
      "Total area of Federal_lands.shp: 0 acres\n",
      "clipped  Indian_lands.shp\n",
      "Total area of Indian_lands.shp: 0 acres\n",
      "clipped  State_lands.shp\n",
      "Total area of State_lands.shp: 0 acres\n",
      "clipped  State_lands_NOS.shp\n",
      "Total area of State_lands_NOS.shp: 0 acres\n",
      "clipped  State_lands_OS.shp\n",
      "Total area of State_lands_OS.shp: 0 acres\n",
      "clipped  Water_body.shp\n",
      "Total area of Water_body.shp: 3675.8420391112 acres\n",
      "   Federal_landsArea(acres)  ...                               Name\n",
      "0                         0  ...  BIG ESCAMBIA CREEK-ESCAMBIA RIVER\n",
      "\n",
      "[1 rows x 8 columns]\n"
     ]
    },
    {
     "name": "stderr",
     "output_type": "stream",
     "text": [
      "[4]:77: FutureWarning: The frame.append method is deprecated and will be removed from pandas in a future version. Use pandas.concat instead.\n"
     ]
    },
    {
     "name": "stdout",
     "output_type": "stream",
     "text": [
      "clipped  Federal_lands.shp\n",
      "Total area of Federal_lands.shp: 0 acres\n",
      "clipped  Indian_lands.shp\n",
      "Total area of Indian_lands.shp: 0 acres\n",
      "clipped  State_lands.shp\n",
      "Total area of State_lands.shp: 0 acres\n",
      "clipped  State_lands_NOS.shp\n",
      "Total area of State_lands_NOS.shp: 0 acres\n",
      "clipped  State_lands_OS.shp\n",
      "Total area of State_lands_OS.shp: 0 acres\n",
      "clipped  Water_body.shp\n",
      "Total area of Water_body.shp: 3469.6844259342993 acres\n",
      "   Federal_landsArea(acres)  Indian_landsArea(acres)  ...           HUC         Name\n",
      "0                         0                        0  ...  031403050404  MOORE CREEK\n",
      "\n",
      "[1 rows x 8 columns]\n"
     ]
    },
    {
     "name": "stderr",
     "output_type": "stream",
     "text": [
      "[4]:77: FutureWarning: The frame.append method is deprecated and will be removed from pandas in a future version. Use pandas.concat instead.\n"
     ]
    },
    {
     "name": "stdout",
     "output_type": "stream",
     "text": [
      "clipped  Federal_lands.shp\n",
      "Total area of Federal_lands.shp: 0 acres\n",
      "clipped  Indian_lands.shp\n",
      "Total area of Indian_lands.shp: 0 acres\n",
      "clipped  State_lands.shp\n",
      "Total area of State_lands.shp: 0 acres\n",
      "clipped  State_lands_NOS.shp\n",
      "Total area of State_lands_NOS.shp: 0 acres\n",
      "clipped  State_lands_OS.shp\n",
      "Total area of State_lands_OS.shp: 0 acres\n",
      "clipped  Water_body.shp\n",
      "Total area of Water_body.shp: 14552.007607551406 acres\n",
      "   Federal_landsArea(acres)  Indian_landsArea(acres)  ...           HUC         Name\n",
      "0                         0                        0  ...  031403050602  WHITE RIVER\n",
      "\n",
      "[1 rows x 8 columns]\n"
     ]
    },
    {
     "name": "stderr",
     "output_type": "stream",
     "text": [
      "[4]:77: FutureWarning: The frame.append method is deprecated and will be removed from pandas in a future version. Use pandas.concat instead.\n"
     ]
    },
    {
     "name": "stdout",
     "output_type": "stream",
     "text": [
      "clipped  Federal_lands.shp\n",
      "Total area of Federal_lands.shp: 0 acres\n",
      "clipped  Indian_lands.shp\n",
      "Total area of Indian_lands.shp: 0 acres\n",
      "clipped  State_lands.shp\n",
      "Total area of State_lands.shp: 0 acres\n",
      "clipped  State_lands_NOS.shp\n",
      "Total area of State_lands_NOS.shp: 0 acres\n",
      "clipped  State_lands_OS.shp\n",
      "Total area of State_lands_OS.shp: 0 acres\n",
      "clipped  Water_body.shp\n",
      "Total area of Water_body.shp: 3125.3718603073 acres\n",
      "   Federal_landsArea(acres)  ...                                 Name\n",
      "0                         0  ...  LOWER WEST FORK BIG COLDWATER CREEK\n",
      "\n",
      "[1 rows x 8 columns]\n"
     ]
    },
    {
     "name": "stderr",
     "output_type": "stream",
     "text": [
      "[4]:77: FutureWarning: The frame.append method is deprecated and will be removed from pandas in a future version. Use pandas.concat instead.\n"
     ]
    },
    {
     "name": "stdout",
     "output_type": "stream",
     "text": [
      "clipped  Federal_lands.shp\n",
      "Total area of Federal_lands.shp: 226.713837237 acres\n",
      "clipped  Indian_lands.shp\n",
      "Total area of Indian_lands.shp: 0 acres\n",
      "clipped  State_lands.shp\n",
      "Total area of State_lands.shp: 63.3642255993 acres\n",
      "clipped  State_lands_NOS.shp\n",
      "Total area of State_lands_NOS.shp: 63.3642255994 acres\n",
      "clipped  State_lands_OS.shp\n",
      "Total area of State_lands_OS.shp: 0 acres\n",
      "clipped  Water_body.shp\n",
      "Total area of Water_body.shp: 8357.0588184996 acres\n",
      "   Federal_landsArea(acres)  ...                                             Name\n",
      "0                226.713837  ...  WEAVER CREEK-YELLOW RIVER FRONTAL PENSACOLA BAY\n",
      "\n",
      "[1 rows x 8 columns]\n"
     ]
    },
    {
     "name": "stderr",
     "output_type": "stream",
     "text": [
      "[4]:77: FutureWarning: The frame.append method is deprecated and will be removed from pandas in a future version. Use pandas.concat instead.\n"
     ]
    },
    {
     "name": "stdout",
     "output_type": "stream",
     "text": [
      "clipped  Federal_lands.shp\n",
      "Total area of Federal_lands.shp: 0 acres\n",
      "clipped  Indian_lands.shp\n",
      "Total area of Indian_lands.shp: 0 acres\n",
      "clipped  State_lands.shp\n",
      "Total area of State_lands.shp: 94.9532255458 acres\n",
      "clipped  State_lands_NOS.shp\n",
      "Total area of State_lands_NOS.shp: 0 acres\n",
      "clipped  State_lands_OS.shp\n",
      "Total area of State_lands_OS.shp: 94.9532255464 acres\n",
      "clipped  Water_body.shp\n",
      "Total area of Water_body.shp: 2596.2224883946005 acres\n",
      "   Federal_landsArea(acres)  ...                     Name\n",
      "0                         0  ...  UPPER BIG JUNIPER CREEK\n",
      "\n",
      "[1 rows x 8 columns]\n"
     ]
    },
    {
     "name": "stderr",
     "output_type": "stream",
     "text": [
      "[4]:77: FutureWarning: The frame.append method is deprecated and will be removed from pandas in a future version. Use pandas.concat instead.\n"
     ]
    },
    {
     "name": "stdout",
     "output_type": "stream",
     "text": [
      "clipped  Federal_lands.shp\n",
      "Total area of Federal_lands.shp: 0 acres\n",
      "clipped  Indian_lands.shp\n",
      "Total area of Indian_lands.shp: 0 acres\n",
      "clipped  State_lands.shp\n",
      "Total area of State_lands.shp: 0 acres\n",
      "clipped  State_lands_NOS.shp\n",
      "Total area of State_lands_NOS.shp: 0 acres\n",
      "clipped  State_lands_OS.shp\n",
      "Total area of State_lands_OS.shp: 0 acres\n",
      "clipped  Water_body.shp\n",
      "Total area of Water_body.shp: 11313.311606957997 acres\n",
      "   Federal_landsArea(acres)  ...            Name\n",
      "0                         0  ...  QUINTETTE LAKE\n",
      "\n",
      "[1 rows x 8 columns]\n"
     ]
    },
    {
     "name": "stderr",
     "output_type": "stream",
     "text": [
      "[4]:77: FutureWarning: The frame.append method is deprecated and will be removed from pandas in a future version. Use pandas.concat instead.\n"
     ]
    },
    {
     "name": "stdout",
     "output_type": "stream",
     "text": [
      "clipped  Federal_lands.shp\n",
      "Total area of Federal_lands.shp: 0 acres\n",
      "clipped  Indian_lands.shp\n",
      "Total area of Indian_lands.shp: 0 acres\n",
      "clipped  State_lands.shp\n",
      "Total area of State_lands.shp: 0 acres\n",
      "clipped  State_lands_NOS.shp\n",
      "Total area of State_lands_NOS.shp: 0 acres\n",
      "clipped  State_lands_OS.shp\n",
      "Total area of State_lands_OS.shp: 0 acres\n",
      "clipped  Water_body.shp\n",
      "Total area of Water_body.shp: 2222.9339641676 acres\n",
      "   Federal_landsArea(acres)  ...                                   Name\n",
      "0                         0  ...  PACE MILL CREEK-MULATTO BAYOU FRONTAL\n",
      "\n",
      "[1 rows x 8 columns]\n"
     ]
    },
    {
     "name": "stderr",
     "output_type": "stream",
     "text": [
      "[4]:77: FutureWarning: The frame.append method is deprecated and will be removed from pandas in a future version. Use pandas.concat instead.\n"
     ]
    },
    {
     "name": "stdout",
     "output_type": "stream",
     "text": [
      "clipped  Federal_lands.shp\n",
      "Total area of Federal_lands.shp: 0 acres\n",
      "clipped  Indian_lands.shp\n",
      "Total area of Indian_lands.shp: 0 acres\n",
      "clipped  State_lands.shp\n",
      "Total area of State_lands.shp: 373.7858985202 acres\n",
      "clipped  State_lands_NOS.shp\n",
      "Total area of State_lands_NOS.shp: 0 acres\n",
      "clipped  State_lands_OS.shp\n",
      "Total area of State_lands_OS.shp: 373.7858985214 acres\n",
      "clipped  Water_body.shp\n",
      "Total area of Water_body.shp: 3707.8239948187 acres\n",
      "   Federal_landsArea(acres)  ...                             Name\n",
      "0                         0  ...  NINEMILE CREEK-BLACKWATER RIVER\n",
      "\n",
      "[1 rows x 8 columns]\n"
     ]
    },
    {
     "name": "stderr",
     "output_type": "stream",
     "text": [
      "[4]:77: FutureWarning: The frame.append method is deprecated and will be removed from pandas in a future version. Use pandas.concat instead.\n"
     ]
    },
    {
     "name": "stdout",
     "output_type": "stream",
     "text": [
      "clipped  Federal_lands.shp\n",
      "Total area of Federal_lands.shp: 0 acres\n",
      "clipped  Indian_lands.shp\n",
      "Total area of Indian_lands.shp: 0 acres\n",
      "clipped  State_lands.shp\n",
      "Total area of State_lands.shp: 0 acres\n",
      "clipped  State_lands_NOS.shp\n",
      "Total area of State_lands_NOS.shp: 0 acres\n",
      "clipped  State_lands_OS.shp\n",
      "Total area of State_lands_OS.shp: 0 acres\n",
      "clipped  Water_body.shp\n",
      "Total area of Water_body.shp: 2723.952730409899 acres\n",
      "   Federal_landsArea(acres)  ...                               Name\n",
      "0                         0  ...  PELICAN BAYOU-JAKES BAYOU FRONTAL\n",
      "\n",
      "[1 rows x 8 columns]\n"
     ]
    },
    {
     "name": "stderr",
     "output_type": "stream",
     "text": [
      "[4]:77: FutureWarning: The frame.append method is deprecated and will be removed from pandas in a future version. Use pandas.concat instead.\n"
     ]
    },
    {
     "name": "stdout",
     "output_type": "stream",
     "text": [
      "clipped  Federal_lands.shp\n",
      "Total area of Federal_lands.shp: 0 acres\n",
      "clipped  Indian_lands.shp\n",
      "Total area of Indian_lands.shp: 0 acres\n",
      "clipped  State_lands.shp\n",
      "Total area of State_lands.shp: 0 acres\n",
      "clipped  State_lands_NOS.shp\n",
      "Total area of State_lands_NOS.shp: 0 acres\n",
      "clipped  State_lands_OS.shp\n",
      "Total area of State_lands_OS.shp: 0 acres\n",
      "clipped  Water_body.shp\n",
      "Total area of Water_body.shp: 1756.5713840028998 acres\n",
      "   Federal_landsArea(acres)  Indian_landsArea(acres)  ...           HUC         Name\n",
      "0                         0                        0  ...  031401040402  DIXON CREEK\n",
      "\n",
      "[1 rows x 8 columns]\n"
     ]
    },
    {
     "name": "stderr",
     "output_type": "stream",
     "text": [
      "[4]:77: FutureWarning: The frame.append method is deprecated and will be removed from pandas in a future version. Use pandas.concat instead.\n"
     ]
    },
    {
     "name": "stdout",
     "output_type": "stream",
     "text": [
      "clipped  Federal_lands.shp\n",
      "Total area of Federal_lands.shp: 0 acres\n",
      "clipped  Indian_lands.shp\n",
      "Total area of Indian_lands.shp: 0 acres\n",
      "clipped  State_lands.shp\n",
      "Total area of State_lands.shp: 0 acres\n",
      "clipped  State_lands_NOS.shp\n",
      "Total area of State_lands_NOS.shp: 0 acres\n",
      "clipped  State_lands_OS.shp\n",
      "Total area of State_lands_OS.shp: 0 acres\n",
      "clipped  Water_body.shp\n",
      "Total area of Water_body.shp: 1569.1125176015 acres\n",
      "   Federal_landsArea(acres)  ...                    Name\n",
      "0                         0  ...  UPPER SWEETWATER CREEK\n",
      "\n",
      "[1 rows x 8 columns]\n"
     ]
    },
    {
     "name": "stderr",
     "output_type": "stream",
     "text": [
      "[4]:77: FutureWarning: The frame.append method is deprecated and will be removed from pandas in a future version. Use pandas.concat instead.\n"
     ]
    },
    {
     "name": "stdout",
     "output_type": "stream",
     "text": [
      "clipped  Federal_lands.shp\n",
      "Total area of Federal_lands.shp: 25.3827548625 acres\n",
      "clipped  Indian_lands.shp\n",
      "Total area of Indian_lands.shp: 0 acres\n",
      "clipped  State_lands.shp\n",
      "Total area of State_lands.shp: 0 acres\n",
      "clipped  State_lands_NOS.shp\n",
      "Total area of State_lands_NOS.shp: 0 acres\n",
      "clipped  State_lands_OS.shp\n",
      "Total area of State_lands_OS.shp: 0 acres\n",
      "clipped  Water_body.shp\n",
      "Total area of Water_body.shp: 734.8674863699999 acres\n",
      "   Federal_landsArea(acres)  ...                                 Name\n",
      "0                 25.382755  ...  WILLIAMS CREEK-ORIOLE BEACH FRONTAL\n",
      "\n",
      "[1 rows x 8 columns]\n"
     ]
    },
    {
     "name": "stderr",
     "output_type": "stream",
     "text": [
      "[4]:77: FutureWarning: The frame.append method is deprecated and will be removed from pandas in a future version. Use pandas.concat instead.\n"
     ]
    },
    {
     "name": "stdout",
     "output_type": "stream",
     "text": [
      "clipped  Federal_lands.shp\n",
      "Total area of Federal_lands.shp: 0 acres\n",
      "clipped  Indian_lands.shp\n",
      "Total area of Indian_lands.shp: 0 acres\n",
      "clipped  State_lands.shp\n",
      "Total area of State_lands.shp: 0 acres\n",
      "clipped  State_lands_NOS.shp\n",
      "Total area of State_lands_NOS.shp: 0 acres\n",
      "clipped  State_lands_OS.shp\n",
      "Total area of State_lands_OS.shp: 0 acres\n",
      "clipped  Water_body.shp\n",
      "Total area of Water_body.shp: 5612.781885941601 acres\n",
      "   Federal_landsArea(acres)  ...          Name\n",
      "0                         0  ...  WRIGHT BASIN\n",
      "\n",
      "[1 rows x 8 columns]\n"
     ]
    },
    {
     "name": "stderr",
     "output_type": "stream",
     "text": [
      "[4]:77: FutureWarning: The frame.append method is deprecated and will be removed from pandas in a future version. Use pandas.concat instead.\n"
     ]
    },
    {
     "name": "stdout",
     "output_type": "stream",
     "text": [
      "clipped  Federal_lands.shp\n",
      "Total area of Federal_lands.shp: 0 acres\n",
      "clipped  Indian_lands.shp\n",
      "Total area of Indian_lands.shp: 0 acres\n",
      "clipped  State_lands.shp\n",
      "Total area of State_lands.shp: 238.599900936 acres\n",
      "clipped  State_lands_NOS.shp\n",
      "Total area of State_lands_NOS.shp: 0 acres\n",
      "clipped  State_lands_OS.shp\n",
      "Total area of State_lands_OS.shp: 238.599900936 acres\n",
      "clipped  Water_body.shp\n",
      "Total area of Water_body.shp: 2818.6103736841005 acres\n",
      "   Federal_landsArea(acres)  ...          Name\n",
      "0                         0  ...  BEAVER CREEK\n",
      "\n",
      "[1 rows x 8 columns]\n"
     ]
    },
    {
     "name": "stderr",
     "output_type": "stream",
     "text": [
      "[4]:77: FutureWarning: The frame.append method is deprecated and will be removed from pandas in a future version. Use pandas.concat instead.\n"
     ]
    },
    {
     "name": "stdout",
     "output_type": "stream",
     "text": [
      "clipped  Federal_lands.shp\n",
      "Total area of Federal_lands.shp: 83.145696683 acres\n",
      "clipped  Indian_lands.shp\n",
      "Total area of Indian_lands.shp: 0 acres\n",
      "clipped  State_lands.shp\n",
      "Total area of State_lands.shp: 32.4953990433 acres\n",
      "clipped  State_lands_NOS.shp\n",
      "Total area of State_lands_NOS.shp: 0 acres\n",
      "clipped  State_lands_OS.shp\n",
      "Total area of State_lands_OS.shp: 32.4953990438 acres\n",
      "clipped  Water_body.shp\n",
      "Total area of Water_body.shp: 4670.575974039 acres\n",
      "   Federal_landsArea(acres)  ...                         Name\n",
      "0                 83.145697  ...  MILLIGAN CREEK-YELLOW CREEK\n",
      "\n",
      "[1 rows x 8 columns]\n"
     ]
    },
    {
     "name": "stderr",
     "output_type": "stream",
     "text": [
      "[4]:77: FutureWarning: The frame.append method is deprecated and will be removed from pandas in a future version. Use pandas.concat instead.\n"
     ]
    },
    {
     "name": "stdout",
     "output_type": "stream",
     "text": [
      "clipped  Federal_lands.shp\n",
      "Total area of Federal_lands.shp: 624.021561454 acres\n",
      "clipped  Indian_lands.shp\n",
      "Total area of Indian_lands.shp: 0 acres\n",
      "clipped  State_lands.shp\n",
      "Total area of State_lands.shp: 0 acres\n",
      "clipped  State_lands_NOS.shp\n",
      "Total area of State_lands_NOS.shp: 0 acres\n",
      "clipped  State_lands_OS.shp\n",
      "Total area of State_lands_OS.shp: 0 acres\n",
      "clipped  Water_body.shp\n",
      "Total area of Water_body.shp: 3917.4486532195997 acres\n",
      "   Federal_landsArea(acres)  ...                   Name\n",
      "0                624.021561  ...  MIDDLE EAST BAY RIVER\n",
      "\n",
      "[1 rows x 8 columns]\n"
     ]
    },
    {
     "name": "stderr",
     "output_type": "stream",
     "text": [
      "[4]:77: FutureWarning: The frame.append method is deprecated and will be removed from pandas in a future version. Use pandas.concat instead.\n"
     ]
    },
    {
     "name": "stdout",
     "output_type": "stream",
     "text": [
      "clipped  Federal_lands.shp\n",
      "Total area of Federal_lands.shp: 44.8969501964 acres\n",
      "clipped  Indian_lands.shp\n",
      "Total area of Indian_lands.shp: 0 acres\n",
      "clipped  State_lands.shp\n",
      "Total area of State_lands.shp: 0 acres\n",
      "clipped  State_lands_NOS.shp\n",
      "Total area of State_lands_NOS.shp: 0 acres\n",
      "clipped  State_lands_OS.shp\n",
      "Total area of State_lands_OS.shp: 0 acres\n",
      "clipped  Water_body.shp\n",
      "Total area of Water_body.shp: 626.4839699367001 acres\n",
      "   Federal_landsArea(acres)  ...                      Name\n",
      "0                  44.89695  ...  SANTA ROSA SOUND FRONTAL\n",
      "\n",
      "[1 rows x 8 columns]\n"
     ]
    },
    {
     "name": "stderr",
     "output_type": "stream",
     "text": [
      "[4]:77: FutureWarning: The frame.append method is deprecated and will be removed from pandas in a future version. Use pandas.concat instead.\n"
     ]
    },
    {
     "name": "stdout",
     "output_type": "stream",
     "text": [
      "clipped  Federal_lands.shp\n",
      "Total area of Federal_lands.shp: 0 acres\n",
      "clipped  Indian_lands.shp\n",
      "Total area of Indian_lands.shp: 0 acres\n",
      "clipped  State_lands.shp\n",
      "Total area of State_lands.shp: 282.58651517 acres\n",
      "clipped  State_lands_NOS.shp\n",
      "Total area of State_lands_NOS.shp: 0 acres\n",
      "clipped  State_lands_OS.shp\n",
      "Total area of State_lands_OS.shp: 282.58651517 acres\n",
      "clipped  Water_body.shp\n",
      "Total area of Water_body.shp: 1600.2995449057998 acres\n",
      "   Federal_landsArea(acres)  Indian_landsArea(acres)  ...           HUC         Name\n",
      "0                         0                        0  ...  031401040204  PENNY CREEK\n",
      "\n",
      "[1 rows x 8 columns]\n"
     ]
    },
    {
     "name": "stderr",
     "output_type": "stream",
     "text": [
      "[4]:77: FutureWarning: The frame.append method is deprecated and will be removed from pandas in a future version. Use pandas.concat instead.\n"
     ]
    },
    {
     "name": "stdout",
     "output_type": "stream",
     "text": [
      "Process completed.\n"
     ]
    }
   ],
   "source": [
    "import arcpy\n",
    "import os\n",
    "import pandas as pd\n",
    "arcpy.env.overwriteOutput = True\n",
    "arcpy.env.addOutputsToMap=False\n",
    "# Set the workspace for the input folder containing feature classes\n",
    "input_workspace = r\"T:\\amandal2023$\\Working\\SantaRosa\\Datasets\\impact_table\\shp\"\n",
    "arcpy.env.workspace = input_workspace\n",
    "\n",
    "# Set the output folder\n",
    "output_folder = r\"T:\\amandal2023$\\Working\\SantaRosa\\Datasets\\impact_table\\temp\"\n",
    "\n",
    "Hucs = r\"T:\\amandal2023$\\Working\\SantaRosa\\Datasets\\Admin\\Santa_Rosa_HUC12s.shp\"\n",
    "\n",
    "\n",
    "        \n",
    "    \n",
    "    \n",
    "# List all feature classes in the input workspace\n",
    "feature_classes = arcpy.ListFeatureClasses()\n",
    "i=0\n",
    "df1 = pd.DataFrame()\n",
    "# Create a search cursor to iterate through the rows\n",
    "with arcpy.da.SearchCursor(Hucs, ['SHAPE@','HUC12','DESCRIPT']) as cursor:#'DESCRIPT'\n",
    "    for row in cursor:\n",
    "        df3 = pd.DataFrame()\n",
    "        #data_list = []\n",
    "        empty_dict = {}\n",
    "        excel_name=str(row[1])+str(row[2])+'.csv'\n",
    "        #print(row[1])\n",
    "        suffix=str(row[1])\n",
    "        #data_list.append({\"HUC\": row[1], \"Name\":row[2]})\n",
    "        for fc in feature_classes:\n",
    "            fc_path = os.path.join(input_workspace, fc)\n",
    "            a,b=fc.split('.')\n",
    "            #print(fc_path)\n",
    "            clip_path=os.path.join(output_folder, fc.replace('.shp','-'+suffix+'.shp'))\n",
    "            arcpy.analysis.Clip(fc_path, row[0], clip_path)\n",
    "            print('clipped ',fc)\n",
    "            field_name = \"acres\"\n",
    "            arcpy.AddField_management(clip_path, field_name, \"DOUBLE\")\n",
    "            # Calculate the area in acres\n",
    "            expression = \"!SHAPE.area@ACRES!\"\n",
    "            arcpy.CalculateField_management(clip_path, field_name, expression, \"PYTHON\")\n",
    "            # Create a SQL expression to select rows with an area greater than 10 acres\n",
    "            sql_expression = f\"{field_name} > 10\"\n",
    "            # Select rows based on the SQL expression\n",
    "            selection=arcpy.SelectLayerByAttribute_management(clip_path, \"NEW_SELECTION\", sql_expression)\n",
    "            output_fc_tmp = os.path.join(output_folder, fc.replace('.shp','_temp.shp'))\n",
    "            arcpy.CopyFeatures_management(selection, output_fc_tmp)\n",
    "            # Calculate the total area of selected rows\n",
    "            selected_area = 0\n",
    "            with arcpy.da.SearchCursor(output_fc_tmp, [field_name]) as cursor:\n",
    "                for row1 in cursor:\n",
    "                    selected_area += row1[0]\n",
    "\n",
    "            # Print the total area of selected rows\n",
    "            print(f\"Total area of {fc}: {selected_area} acres\")\n",
    "            arcpy.Delete_management(clip_path)\n",
    "            arcpy.Delete_management(output_fc_tmp)\n",
    "            #data_list.append({\"HUC\": row[1],\"Layer\": a, \"Area(acres)\": selected_area})\n",
    "            #data_list.append({str(a)+\"Area(acres)\": selected_area})\n",
    "            empty_dict[str(a)+\"Area(acres)\"]=selected_area\n",
    "            \n",
    "        \n",
    "\n",
    "        #print(name)\n",
    "        #print(excel_name)\n",
    "        empty_dict[\"HUC\"]=row[1]\n",
    "        empty_dict[\"Name\"]=row[2]\n",
    "        #print(empty_dict)\n",
    "        #data_list.append({\"HUC\": row[1], \"Name\":row[2]})\n",
    "        df2 = pd.DataFrame([empty_dict])\n",
    "        print(df2)\n",
    "        #df3=df3.append({\"HUC\": row[1], \"Name\":row[2]},ignore_index=True)\n",
    "        #df1=df1.append(df3)\n",
    "        df1=df1.append(df2)\n",
    "        #excel_path=os.path.join(output_folder,excel_name)\n",
    "        #df.to_csv(excel_path)\n",
    "#df2 = pd.DataFrame(data_list)\n",
    "print(\"Process completed.\")\n",
    "           \n",
    "            \n",
    "\n",
    "        \n"
   ]
  },
  {
   "cell_type": "code",
   "execution_count": 5,
   "metadata": {},
   "outputs": [
    {
     "name": "stderr",
     "output_type": "stream",
     "text": [
      "[5]:1: FutureWarning: As the xlwt package is no longer maintained, the xlwt engine will be removed in a future version of pandas. This is the only engine in pandas that supports writing in the xls format. Install openpyxl and write to an xlsx file instead. You can set the option io.excel.xls.writer to 'xlwt' to silence this warning. While this option is deprecated and will also raise a warning, it can be globally set and the warning suppressed.\n"
     ]
    }
   ],
   "source": [
    "df1.to_excel(r'T:\\amandal2023$\\Working\\SantaRosa\\Datasets\\impact_table\\table2.xls')"
   ]
  },
  {
   "cell_type": "code",
   "execution_count": 7,
   "metadata": {},
   "outputs": [
    {
     "name": "stderr",
     "output_type": "stream",
     "text": [
      "[7]:5: FutureWarning: As the xlwt package is no longer maintained, the xlwt engine will be removed in a future version of pandas. This is the only engine in pandas that supports writing in the xls format. Install openpyxl and write to an xlsx file instead. You can set the option io.excel.xls.writer to 'xlwt' to silence this warning. While this option is deprecated and will also raise a warning, it can be globally set and the warning suppressed.\n"
     ]
    }
   ],
   "source": [
    "import pandas as pd\n",
    "df1=pd.read_excel(r'T:\\amandal2023$\\Working\\SantaRosa\\Datasets\\impact_table\\table2.xls')\n",
    "df=pd.read_excel(r'T:\\amandal2023$\\Working\\SantaRosa\\Datasets\\impact_table\\table1.xls')\n",
    "merged_df = pd.merge(df, df1, left_on='HUC', right_on='HUC', how='inner')\n",
    "merged_df.to_excel(r'T:\\amandal2023$\\Working\\SantaRosa\\Datasets\\impact_table\\table_all1.xls')"
   ]
  },
  {
   "cell_type": "code",
   "execution_count": null,
   "metadata": {},
   "outputs": [],
   "source": []
  }
 ],
 "metadata": {
  "kernelspec": {
   "display_name": "ArcGISPro",
   "language": "Python",
   "name": "python3"
  },
  "language_info": {
   "file_extension": ".py",
   "name": "python",
   "version": "3"
  }
 },
 "nbformat": 4,
 "nbformat_minor": 2
}
